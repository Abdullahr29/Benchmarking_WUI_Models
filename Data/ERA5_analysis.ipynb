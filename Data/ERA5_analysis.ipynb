{
 "cells": [
  {
   "cell_type": "code",
   "execution_count": 1,
   "id": "c5400c1c-691c-4be2-89bb-d7605f25550a",
   "metadata": {},
   "outputs": [],
   "source": [
    "import xarray as xr\n",
    "import matplotlib.pyplot as plt\n",
    "from netCDF4 import Dataset "
   ]
  },
  {
   "cell_type": "code",
   "execution_count": 2,
   "id": "3d4f1c7f-0671-4a28-8b6b-2fdf1eb926c4",
   "metadata": {},
   "outputs": [],
   "source": [
    "%matplotlib inline"
   ]
  },
  {
   "cell_type": "code",
   "execution_count": 3,
   "id": "a2b09e2b-7199-49f6-963d-de77de96d0b3",
   "metadata": {
    "collapsed": true,
    "jupyter": {
     "outputs_hidden": true,
     "source_hidden": true
    }
   },
   "outputs": [
    {
     "name": "stdout",
     "output_type": "stream",
     "text": [
      "File opened with netCDF4!\n",
      "<class 'netCDF4.Dataset'>\n",
      "root group (NETCDF4 data model, file format HDF5):\n",
      "    GRIB_centre: ecmf\n",
      "    GRIB_centreDescription: European Centre for Medium-Range Weather Forecasts\n",
      "    GRIB_subCentre: 0\n",
      "    Conventions: CF-1.7\n",
      "    institution: European Centre for Medium-Range Weather Forecasts\n",
      "    history: 2025-01-16T17:12 GRIB to CDM+CF via cfgrib-0.9.14.1/ecCodes-2.36.0 with {\"source\": \"data.grib\", \"filter_by_keys\": {\"stream\": [\"oper\"], \"stepType\": [\"instant\"]}, \"encode_cf\": [\"parameter\", \"time\", \"geography\", \"vertical\"]}\n",
      "    dimensions(sizes): valid_time(96), latitude(9), longitude(17)\n",
      "    variables(dimensions): int64 number(), int64 valid_time(valid_time), float64 latitude(latitude), float64 longitude(longitude), <class 'str'> expver(valid_time), float32 u10(valid_time, latitude, longitude), float32 v10(valid_time, latitude, longitude), float32 d2m(valid_time, latitude, longitude), float32 t2m(valid_time, latitude, longitude), float32 sp(valid_time, latitude, longitude), float32 u100(valid_time, latitude, longitude), float32 v100(valid_time, latitude, longitude), float32 u10n(valid_time, latitude, longitude), float32 v10n(valid_time, latitude, longitude)\n",
      "    groups: \n"
     ]
    }
   ],
   "source": [
    "nc_file = 'era5_lahaina.nc'\n",
    "nc_data = Dataset(nc_file, mode='r')  # read-only\n",
    "\n",
    "print(\"File opened with netCDF4!\")\n",
    "\n",
    "print(nc_data)"
   ]
  },
  {
   "cell_type": "code",
   "execution_count": 12,
   "id": "d8e5399f-4bb2-4394-b7c5-0bd9c10466ae",
   "metadata": {},
   "outputs": [
    {
     "name": "stdout",
     "output_type": "stream",
     "text": [
      "<class 'netCDF4.Variable'>\n",
      "float32 u10(valid_time, latitude, longitude)\n",
      "    _FillValue: nan\n",
      "    GRIB_paramId: 165\n",
      "    GRIB_dataType: an\n",
      "    GRIB_numberOfPoints: 153\n",
      "    GRIB_typeOfLevel: surface\n",
      "    GRIB_stepUnits: 1\n",
      "    GRIB_stepType: instant\n",
      "    GRIB_gridType: regular_ll\n",
      "    GRIB_uvRelativeToGrid: 0\n",
      "    GRIB_NV: 0\n",
      "    GRIB_Nx: 17\n",
      "    GRIB_Ny: 9\n",
      "    GRIB_cfName: unknown\n",
      "    GRIB_cfVarName: u10\n",
      "    GRIB_gridDefinitionDescription: Latitude/Longitude Grid\n",
      "    GRIB_iDirectionIncrementInDegrees: 0.25\n",
      "    GRIB_iScansNegatively: 0\n",
      "    GRIB_jDirectionIncrementInDegrees: 0.25\n",
      "    GRIB_jPointsAreConsecutive: 0\n",
      "    GRIB_jScansPositively: 0\n",
      "    GRIB_latitudeOfFirstGridPointInDegrees: 22.0\n",
      "    GRIB_latitudeOfLastGridPointInDegrees: 20.0\n",
      "    GRIB_longitudeOfFirstGridPointInDegrees: -158.0\n",
      "    GRIB_longitudeOfLastGridPointInDegrees: -154.0\n",
      "    GRIB_missingValue: 3.4028234663852886e+38\n",
      "    GRIB_name: 10 metre U wind component\n",
      "    GRIB_shortName: 10u\n",
      "    GRIB_totalNumber: 0\n",
      "    GRIB_units: m s**-1\n",
      "    long_name: 10 metre U wind component\n",
      "    units: m s**-1\n",
      "    standard_name: unknown\n",
      "    GRIB_surface: 0.0\n",
      "    coordinates: number valid_time latitude longitude expver\n",
      "unlimited dimensions: \n",
      "current shape = (96, 9, 17)\n",
      "filling on\n"
     ]
    }
   ],
   "source": [
    "print(nc_data.variables[\"u10\"])"
   ]
  },
  {
   "cell_type": "code",
   "execution_count": null,
   "id": "c2a92629-cb33-4470-9d00-7ba744df253b",
   "metadata": {},
   "outputs": [],
   "source": []
  }
 ],
 "metadata": {
  "kernelspec": {
   "display_name": "Python 3 (ipykernel)",
   "language": "python",
   "name": "python3"
  },
  "language_info": {
   "codemirror_mode": {
    "name": "ipython",
    "version": 3
   },
   "file_extension": ".py",
   "mimetype": "text/x-python",
   "name": "python",
   "nbconvert_exporter": "python",
   "pygments_lexer": "ipython3",
   "version": "3.11.6"
  }
 },
 "nbformat": 4,
 "nbformat_minor": 5
}
